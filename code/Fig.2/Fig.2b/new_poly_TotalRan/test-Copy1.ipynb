{
 "cells": [
  {
   "cell_type": "code",
   "execution_count": null,
   "id": "e61448d7",
   "metadata": {},
   "outputs": [],
   "source": [
    "# 2023.5.1\n",
    "# reconstructed code \n",
    "\n",
    "# total random init\n",
    "# poly function"
   ]
  },
  {
   "cell_type": "code",
   "execution_count": null,
   "id": "59ba15af",
   "metadata": {},
   "outputs": [],
   "source": [
    "import os\n",
    "\n",
    "cuda_device = '3'\n",
    "\n",
    "os.environ[\"CUDA_VISIBLE_DEVICES\"] = cuda_device\n",
    "os.environ['CUBLAS_WORKSPACE_CONFIG']=':4096:8'\n",
    "\n",
    "import torch\n",
    "\n",
    "import numpy as np\n",
    "\n",
    "from para_init import parameters, setup_seed\n",
    "from permutation import permutation_train\n",
    "\n",
    "\n"
   ]
  },
  {
   "cell_type": "code",
   "execution_count": null,
   "id": "b27cb094",
   "metadata": {},
   "outputs": [
    {
     "name": "stdout",
     "output_type": "stream",
     "text": [
      "Hallelujah!\n",
      "Hallelujah!\n",
      "Hallelujah!\n",
      "Hallelujah!\n",
      "Hallelujah!\n",
      "Hallelujah!\n",
      "Hallelujah!\n",
      "Hallelujah!\n",
      "Hallelujah!\n",
      "Hallelujah!\n",
      "Hallelujah!\n",
      "Hallelujah!\n",
      "Hallelujah!\n",
      "Hallelujah!\n",
      "Hallelujah!\n",
      "Hallelujah!\n",
      "Hallelujah!\n",
      "Hallelujah!\n",
      "Hallelujah!\n",
      "Hallelujah!\n"
     ]
    }
   ],
   "source": [
    "import torch.multiprocessing as mp\n",
    "num_processes = 10\n",
    "\n",
    "\n",
    "\n",
    "width_vector = [640, 1280]\n",
    "\n",
    "result_matrix = np.zeros((len(width_vector), 10, 2))\n",
    "\n",
    "i = 0\n",
    "\n",
    "for width in width_vector:\n",
    "    \n",
    "    setup_seed(2022)\n",
    "    \n",
    "    shared_params = parameters()\n",
    "    \n",
    "    shared_params.width = width\n",
    "    shared_params.adjust_scale = 0\n",
    "    \n",
    "            \n",
    "    if __name__ == \"__main__\":\n",
    "        \n",
    "        mp.set_start_method('spawn', force=True)\n",
    "        \n",
    "        manager = mp.Manager()\n",
    "        results_queue = manager.Queue()\n",
    "\n",
    "        mp.spawn(permutation_train, args=(shared_params, results_queue), nprocs=num_processes, join=True)\n",
    "        \n",
    "        \n",
    "        while not results_queue.empty():\n",
    "            (idx, (error, error_infty)) = results_queue.get()\n",
    "            result_matrix[i, idx, :] = [error, error_infty]\n",
    "\n",
    "    \n",
    "\n",
    "    i += 1\n",
    "\n",
    "\n",
    "    "
   ]
  },
  {
   "cell_type": "code",
   "execution_count": 4,
   "id": "0729f6ce",
   "metadata": {},
   "outputs": [
    {
     "name": "stdout",
     "output_type": "stream",
     "text": [
      "[[[2.77827872e-04 5.37287593e-02]\n",
      "  [4.78210248e-04 7.60363936e-02]\n",
      "  [3.75652016e-04 7.38623738e-02]\n",
      "  [4.07602492e-04 8.94918442e-02]\n",
      "  [3.96845600e-04 6.30677938e-02]\n",
      "  [5.61388908e-04 5.97916245e-02]\n",
      "  [8.54249301e-05 2.03118324e-02]\n",
      "  [2.41319402e-04 4.24541235e-02]\n",
      "  [3.56400385e-04 5.81921339e-02]\n",
      "  [1.67767372e-04 3.83955836e-02]]\n",
      "\n",
      " [[1.12555477e-04 4.32419181e-02]\n",
      "  [1.18009753e-04 4.57162857e-02]\n",
      "  [6.99704397e-05 3.25756669e-02]\n",
      "  [1.10949593e-04 3.18713784e-02]\n",
      "  [2.56494404e-05 1.21757984e-02]\n",
      "  [1.23499718e-04 2.98041105e-02]\n",
      "  [1.02142039e-04 4.76557016e-02]\n",
      "  [7.07562140e-05 2.63747573e-02]\n",
      "  [3.46179149e-05 1.29399300e-02]\n",
      "  [1.19361837e-04 5.55948615e-02]]]\n"
     ]
    }
   ],
   "source": [
    "print(result_matrix)"
   ]
  },
  {
   "cell_type": "code",
   "execution_count": null,
   "id": "34e4fed6",
   "metadata": {},
   "outputs": [
    {
     "name": "stdout",
     "output_type": "stream",
     "text": [
      "(2, 10, 2)\n",
      "0.05361295653287575\n",
      "<class 'numpy.ndarray'>\n",
      "0.0\n",
      "[2.98340709e-04 7.92356131e-05]\n",
      "[0.05361296 0.03039704]\n",
      "y_min: [8.54249301e-05 2.56494404e-05]\n",
      "y_max: [0.00056139 0.0001235 ]\n",
      "[[2.12915779e-04 5.35861727e-05]\n",
      " [2.63048198e-04 4.42641049e-05]]\n"
     ]
    },
    {
     "data": {
      "image/png": "[encoded data removed]",
      "text/plain": [
       "<Figure size 800x600 with 1 Axes>"
      ]
     },
     "metadata": {},
     "output_type": "display_data"
    }
   ],
   "source": [
    "from statistics import geometric_mean\n",
    "import matplotlib.pyplot as plt\n",
    "\n",
    "x = width_vector\n",
    "\n",
    "print(np.shape(result_matrix))\n",
    "\n",
    "print(geometric_mean(result_matrix[0,:,1]))\n",
    "\n",
    "mean = np.zeros(int(len(x)))\n",
    "mean_inf = np.zeros(int(len(x)))\n",
    "\n",
    "print(type(mean))\n",
    "\n",
    "print(mean[0])\n",
    "\n",
    "for i in range(len(x)):\n",
    "    mean[i] = geometric_mean(result_matrix[i,:,0])\n",
    "    mean_inf[i] = geometric_mean(result_matrix[i,:,1])\n",
    "\n",
    "print(mean)\n",
    "print(mean_inf)\n",
    "\n",
    "y_max = np.max(result_matrix[:,:,0], axis = 1)\n",
    "y_min = np.min(result_matrix[:,:,0], axis = 1)\n",
    "\n",
    "y_min_inf = np.min(result_matrix[:,:,1], axis = 1)\n",
    "y_max_inf = np.max(result_matrix[:,:,1], axis = 1)\n",
    "\n",
    "yerr = np.abs(np.vstack((y_min, y_max)) - mean)\n",
    "\n",
    "print('y_min: '+str(y_min))\n",
    "print('y_max: '+str(y_max))\n",
    "print(yerr)\n",
    "\n",
    "yerr2 = np.abs(np.vstack((y_min_inf, y_max_inf)) - mean_inf)\n",
    "\n",
    "start_point = 1E-1\n",
    "\n",
    "x_ref = [x[0], x[-1]]\n",
    "y_ref = [start_point, start_point/np.sqrt(np.power(2,len(x)))]\n",
    "\n",
    "\n",
    "ax = plt.figure(figsize=(8, 6))\n",
    "plt.errorbar(x, mean_inf, yerr=yerr2, capsize = 3, label='$L^\\infty$ error')\n",
    "plt.plot(x_ref, y_ref, linestyle='--', label='1/2 order')\n",
    "plt.yscale('log')\n",
    "plt.xscale('log')\n",
    "plt.xlabel('n', size=20)\n",
    "plt.legend(fontsize=15)\n",
    "plt.xticks(x, x, fontsize=15)\n",
    "plt.yticks(fontsize=15)\n",
    "plt.savefig('plot.pdf', bbox_inches='tight')\n",
    "plt.show()"
   ]
  },
  {
   "cell_type": "code",
   "execution_count": null,
   "id": "31992c27",
   "metadata": {},
   "outputs": [],
   "source": []
  }
 ],
 "metadata": {
  "kernelspec": {
   "display_name": "torch",
   "language": "python",
   "name": "torch"
  },
  "language_info": {
   "codemirror_mode": {
    "name": "ipython",
    "version": 3
   },
   "file_extension": ".py",
   "mimetype": "text/x-python",
   "name": "python",
   "nbconvert_exporter": "python",
   "pygments_lexer": "ipython3",
   "version": "3.11.5"
  }
 },
 "nbformat": 4,
 "nbformat_minor": 5
}
