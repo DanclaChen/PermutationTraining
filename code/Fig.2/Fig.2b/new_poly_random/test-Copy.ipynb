{
 "cells": [
  {
   "cell_type": "code",
   "execution_count": null,
   "id": "e61448d7",
   "metadata": {},
   "outputs": [],
   "source": [
    "# 2023.5.1\n",
    "# reconstructed code \n",
    "\n",
    "# random init\n",
    "# poly function"
   ]
  },
  {
   "cell_type": "code",
   "execution_count": null,
   "id": "59ba15af",
   "metadata": {},
   "outputs": [],
   "source": [
    "import os\n",
    "\n",
    "cuda_device = '2'\n",
    "\n",
    "os.environ[\"CUDA_VISIBLE_DEVICES\"] = cuda_device\n",
    "os.environ['CUBLAS_WORKSPACE_CONFIG']=':4096:8'\n",
    "\n",
    "import torch\n",
    "\n",
    "import numpy as np\n",
    "\n",
    "from para_init import parameters, setup_seed\n",
    "from permutation import permutation_train\n",
    "\n"
   ]
  },
  {
   "cell_type": "code",
   "execution_count": null,
   "id": "b27cb094",
   "metadata": {},
   "outputs": [
    {
     "name": "stdout",
     "output_type": "stream",
     "text": [
      "Hallelujah!\n",
      "Hallelujah!\n",
      "Hallelujah!\n",
      "Hallelujah!\n",
      "Hallelujah!\n",
      "Hallelujah!\n",
      "Hallelujah!\n",
      "Hallelujah!\n",
      "Hallelujah!\n",
      "Hallelujah!\n",
      "Hallelujah!\n",
      "Hallelujah!\n",
      "Hallelujah!\n",
      "Hallelujah!\n",
      "Hallelujah!\n",
      "Hallelujah!\n",
      "Hallelujah!\n",
      "Hallelujah!\n",
      "Hallelujah!\n",
      "Hallelujah!\n",
      "Hallelujah!\n",
      "Hallelujah!\n",
      "Hallelujah!\n",
      "Hallelujah!\n",
      "Hallelujah!\n",
      "Hallelujah!\n",
      "Hallelujah!\n",
      "Hallelujah!\n",
      "Hallelujah!\n",
      "Hallelujah!\n"
     ]
    }
   ],
   "source": [
    "import torch.multiprocessing as mp\n",
    "num_processes = 10\n",
    "\n",
    "\n",
    "width_vector = [10, 20, 40]\n",
    "\n",
    "# generate a 2-dimensional matrix to hold the results in (i,j)\n",
    "result_matrix = np.zeros((len(width_vector), 10, 2))\n",
    "\n",
    "i = 0\n",
    "\n",
    "for width in width_vector:\n",
    "    \n",
    "    setup_seed(2022)\n",
    "    \n",
    "    shared_params = parameters()\n",
    "    \n",
    "    shared_params.width = width\n",
    "    shared_params.adjust_scale = 0\n",
    "    \n",
    "            \n",
    "    if __name__ == \"__main__\":\n",
    "        \n",
    "        mp.set_start_method('spawn', force=True)\n",
    "        \n",
    "        manager = mp.Manager()\n",
    "        results_queue = manager.Queue()\n",
    "\n",
    "        mp.spawn(permutation_train, args=(shared_params, results_queue), nprocs=num_processes, join=True)\n",
    "        \n",
    "\n",
    "        while not results_queue.empty():\n",
    "            (idx, (error, error_infty)) = results_queue.get()\n",
    "            result_matrix[i, idx, :] = [error, error_infty]\n",
    "    \n",
    "\n",
    "    i += 1\n",
    "\n",
    "\n",
    "    "
   ]
  },
  {
   "cell_type": "code",
   "execution_count": 4,
   "id": "0729f6ce",
   "metadata": {},
   "outputs": [
    {
     "name": "stdout",
     "output_type": "stream",
     "text": [
      "[[[0.13860595 0.81335056]\n",
      "  [0.12590423 1.15229487]\n",
      "  [0.04030224 0.61789715]\n",
      "  [0.00924091 0.2133989 ]\n",
      "  [0.00668379 0.15924704]\n",
      "  [0.0234377  0.53300047]\n",
      "  [0.12882267 1.11366522]\n",
      "  [0.04098175 0.48000181]\n",
      "  [0.01647827 0.26304722]\n",
      "  [0.06525813 0.36422288]]\n",
      "\n",
      " [[0.03367086 0.51095128]\n",
      "  [0.04374375 0.31631482]\n",
      "  [0.00888748 0.1931974 ]\n",
      "  [0.00855567 0.19530576]\n",
      "  [0.00281503 0.09585297]\n",
      "  [0.00389585 0.17091721]\n",
      "  [0.13763271 0.78314555]\n",
      "  [0.01301911 0.22341311]\n",
      "  [0.02863695 0.25690699]\n",
      "  [0.00340445 0.11727768]]\n",
      "\n",
      " [[0.00811871 0.20730102]\n",
      "  [0.00481149 0.26910388]\n",
      "  [0.12814355 1.04012191]\n",
      "  [0.01965977 0.31824112]\n",
      "  [0.00700672 0.13515738]\n",
      "  [0.00635813 0.1529454 ]\n",
      "  [0.00648215 0.237984  ]\n",
      "  [0.00453018 0.14689904]\n",
      "  [0.0015872  0.08928275]\n",
      "  [0.00174182 0.12152302]]]\n"
     ]
    }
   ],
   "source": [
    "print(result_matrix)"
   ]
  },
  {
   "cell_type": "code",
   "execution_count": null,
   "id": "34e4fed6",
   "metadata": {},
   "outputs": [
    {
     "name": "stdout",
     "output_type": "stream",
     "text": [
      "(3, 10, 2)\n",
      "0.4709932913200255\n",
      "<class 'numpy.ndarray'>\n",
      "0.0\n",
      "[0.03768715 0.01358803 0.00716367]\n",
      "[0.47099329 0.23558895 0.20704898]\n",
      "y_min: [0.00668379 0.00281503 0.0015872 ]\n",
      "y_max: [0.13860595 0.13763271 0.12814355]\n",
      "[[0.03100336 0.010773   0.00557647]\n",
      " [0.1009188  0.12404468 0.12097988]]\n"
     ]
    },
    {
     "data": {
      "image/png": "[encoded data removed]",
      "text/plain": [
       "<Figure size 800x600 with 1 Axes>"
      ]
     },
     "metadata": {},
     "output_type": "display_data"
    }
   ],
   "source": [
    "from statistics import geometric_mean\n",
    "import matplotlib.pyplot as plt\n",
    "\n",
    "x = width_vector\n",
    "\n",
    "print(np.shape(result_matrix))\n",
    "\n",
    "print(geometric_mean(result_matrix[0,:,1]))\n",
    "\n",
    "\n",
    "mean = np.zeros(int(len(x)))\n",
    "mean_inf = np.zeros(int(len(x)))\n",
    "\n",
    "print(type(mean))\n",
    "\n",
    "print(mean[0])\n",
    "\n",
    "for i in range(len(x)):\n",
    "    mean[i] = geometric_mean(result_matrix[i,:,0])\n",
    "    mean_inf[i] = geometric_mean(result_matrix[i,:,1])\n",
    "\n",
    "\n",
    "print(mean)\n",
    "print(mean_inf)\n",
    "\n",
    "\n",
    "y_max = np.max(result_matrix[:,:,0], axis = 1)\n",
    "y_min = np.min(result_matrix[:,:,0], axis = 1)\n",
    "\n",
    "y_min_inf = np.min(result_matrix[:,:,1], axis = 1)\n",
    "y_max_inf = np.max(result_matrix[:,:,1], axis = 1)\n",
    "\n",
    "yerr = np.abs(np.vstack((y_min, y_max)) - mean)\n",
    "\n",
    "print('y_min: '+str(y_min))\n",
    "print('y_max: '+str(y_max))\n",
    "print(yerr)\n",
    "\n",
    "yerr2 = np.abs(np.vstack((y_min_inf, y_max_inf)) - mean_inf)\n",
    "\n",
    "start_point = 1E-1\n",
    "\n",
    "x_ref = [x[0], x[-1]]\n",
    "y_ref = [start_point, start_point/np.sqrt(np.power(2,len(x)))]\n",
    "\n",
    "\n",
    "\n",
    "ax = plt.figure(figsize=(8, 6))\n",
    "plt.errorbar(x, mean_inf, yerr=yerr2, capsize = 3, label='$L^\\infty$ error')\n",
    "plt.plot(x_ref, y_ref, linestyle='--', label='1/2 order')\n",
    "plt.yscale('log')\n",
    "plt.xscale('log')\n",
    "plt.xlabel('n', size=20)\n",
    "plt.legend(fontsize=15)\n",
    "plt.xticks(x, x, fontsize=15)\n",
    "plt.yticks(fontsize=15)\n",
    "plt.savefig('plot.pdf', bbox_inches='tight')\n",
    "plt.show()"
   ]
  },
  {
   "cell_type": "code",
   "execution_count": null,
   "id": "31992c27",
   "metadata": {},
   "outputs": [],
   "source": []
  }
 ],
 "metadata": {
  "kernelspec": {
   "display_name": "Python (torch)",
   "language": "python",
   "name": "torch"
  },
  "language_info": {
   "codemirror_mode": {
    "name": "ipython",
    "version": 3
   },
   "file_extension": ".py",
   "mimetype": "text/x-python",
   "name": "python",
   "nbconvert_exporter": "python",
   "pygments_lexer": "ipython3",
   "version": "3.10.9"
  }
 },
 "nbformat": 4,
 "nbformat_minor": 5
}
