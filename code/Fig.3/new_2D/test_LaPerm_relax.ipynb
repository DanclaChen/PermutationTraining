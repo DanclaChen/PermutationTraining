{
 "cells": [
  {
   "cell_type": "code",
   "execution_count": 1,
   "id": "e61448d7",
   "metadata": {},
   "outputs": [],
   "source": [
    "# 2023.5.5\n",
    "# reconstructed code \n",
    "\n",
    "# no random init\n",
    "# 2D z=sin \\pi x y"
   ]
  },
  {
   "cell_type": "code",
   "execution_count": null,
   "id": "59ba15af",
   "metadata": {},
   "outputs": [],
   "source": [
    "import os\n",
    "\n",
    "cuda_device = '3'\n",
    "\n",
    "os.environ[\"CUDA_VISIBLE_DEVICES\"] = cuda_device\n",
    "os.environ['CUBLAS_WORKSPACE_CONFIG']=':4096:8'\n",
    "\n",
    "import torch\n",
    "\n",
    "import numpy as np\n",
    "\n",
    "from para_init import parameters, setup_seed\n",
    "from permutation_plus import permutation_train\n",
    "\n",
    "\n"
   ]
  },
  {
   "cell_type": "code",
   "execution_count": null,
   "id": "b27cb094",
   "metadata": {},
   "outputs": [],
   "source": [
    "import torch.multiprocessing as mp\n",
    "\n",
    "num_processes = 5\n",
    "\n",
    "\n",
    "\n",
    "width_vector = [10, 20, 40, 80, 160, 320]\n",
    "\n",
    "\n",
    "# generate a 2-dimensional matrix to hold the results in (i,j)\n",
    "\n",
    "result_matrix = np.zeros((len(width_vector), 10, 2))\n",
    "\n",
    "i = 0\n",
    "\n",
    "for width in width_vector:\n",
    "    \n",
    "    setup_seed(2022)\n",
    "    \n",
    "    shared_params = parameters()\n",
    "    \n",
    "    shared_params.width = width\n",
    "    shared_params.adjust_scale = 10\n",
    "\n",
    "            \n",
    "    if __name__ == \"__main__\":\n",
    "        \n",
    "        mp.set_start_method('spawn', force=True)\n",
    "        \n",
    "        manager = mp.Manager()\n",
    "        results_queue = manager.Queue()\n",
    "\n",
    "        mp.spawn(permutation_train, args=(shared_params, results_queue), nprocs=num_processes, join=True)\n",
    "        \n",
    "\n",
    "        \n",
    "        while not results_queue.empty():\n",
    "            (idx, (error, error_infty)) = results_queue.get()\n",
    "            result_matrix[i, idx, :] = [error, error_infty]\n",
    "\n",
    "\n",
    "    i += 1\n",
    "\n",
    "\n",
    "    "
   ]
  },
  {
   "cell_type": "code",
   "execution_count": null,
   "id": "7e64ca81",
   "metadata": {},
   "outputs": [],
   "source": []
  }
 ],
 "metadata": {
  "kernelspec": {
   "display_name": "Python (torch)",
   "language": "python",
   "name": "torch"
  },
  "language_info": {
   "codemirror_mode": {
    "name": "ipython",
    "version": 3
   },
   "file_extension": ".py",
   "mimetype": "text/x-python",
   "name": "python",
   "nbconvert_exporter": "python",
   "pygments_lexer": "ipython3",
   "version": "3.10.9"
  }
 },
 "nbformat": 4,
 "nbformat_minor": 5
}
